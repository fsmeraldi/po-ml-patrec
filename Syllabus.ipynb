{
 "cells": [
  {
   "cell_type": "markdown",
   "metadata": {},
   "source": [
    "# Apprendimento Automatico e Pattern Recognition: Struttura del corso"
   ]
  },
  {
   "cell_type": "markdown",
   "metadata": {},
   "source": [
    "# Introduzione (2 ore)\n",
    "\n",
    "### Fotocellule, oscilloscopi e chicchi di caffè\n",
    "* Due fotocellule e un oscilloscopio: lo spazio dei descrittori\n",
    "* Esempi buoni, esempi cattivi\n",
    "* Funzioni di decisione: carta e forbici\n",
    "    \n",
    "### Tipologie di apprendimento\n",
    "* Apprendimento supervisionato:\n",
    "     * A due classi\n",
    "     * A molte classi \n",
    "     * Regressione\n",
    "* Apprendimento non supervisionato (clustering)\n",
    "* Approcci misti (cenni):\n",
    "     * Algoritmi semi-supervisionati\n",
    "     * Concept learning\n",
    "     * Multiple Instance Learning\n",
    "     * Sistemi di raccomandazione"
   ]
  },
  {
   "cell_type": "markdown",
   "metadata": {},
   "source": [
    "# Apprendimento non supervisionato (4 ore)\n",
    "\n",
    "* Misurare la similarità\n",
    "* K-means\n",
    "* Clustering gerarchico\n",
    "* Spectral clustering "
   ]
  },
  {
   "cell_type": "markdown",
   "metadata": {},
   "source": [
    "# Costruzione dello spazio dei descrittori (4 ore)\n",
    "\n",
    "* Descrittori per testo: k-mers, bag of words\n",
    "* Descrittori per immagini: filtri lineari, filtri rank-based\n",
    "* Descrittori per audio: il Cepstrum\n",
    "* Clustering come tecnica per creare i descrittori"
   ]
  },
  {
   "cell_type": "markdown",
   "metadata": {},
   "source": [
    "# Apprendimento supervisionato - le basi probabilistiche (2 ore)\n",
    "\n",
    "* La distribuzione dei dati e delle etichette\n",
    "* Regola di decisione di Bayes\n",
    "* Stima delle densità di probabilità: un problema mal posto\n",
    "* Finestre di Parzen e kNN"
   ]
  },
  {
   "cell_type": "markdown",
   "metadata": {},
   "source": [
    "# Come si valuta un classificatore (2 ore)\n",
    "\n",
    "* Gli insiemi di apprendimento, validazione e test\n",
    "* Falsi positivi, falsi negativi\n",
    "* Curve ROC \n",
    "* Area sotto la curva (AUC)\n",
    "* Equal Error Rate\n",
    "* Cross validation"
   ]
  },
  {
   "cell_type": "markdown",
   "metadata": {},
   "source": [
    "# Principi di teoria dell'apprendimento statistico (2 ore)\n",
    "\n",
    "* Overfitting\n",
    "* Dimensione di Vapnik-Chevronenskis\n",
    "* Bias-variance trade off\n",
    "* Structural Risk Minimisation"
   ]
  },
  {
   "cell_type": "markdown",
   "metadata": {},
   "source": [
    "# Support Vector Machines (4 ore)\n",
    "\n",
    "* Linear Svm\n",
    "* Mercer Kernels\n",
    "* Non-linear SVMs\n",
    "\n",
    "\n",
    "# PAC approaches: Adaboost (2 ore)\n",
    "\n",
    "* Il ciclo di aggiornamento dei pesi\n",
    "* Bound sull'errore\n",
    "\n",
    "# Decision trees (2 ore)\n",
    "\n",
    "* criteri per l'apprendimento \n",
    "* decision forests\n"
   ]
  },
  {
   "cell_type": "markdown",
   "metadata": {},
   "source": [
    "# Fusione di features/classificatori   (2 ore)\n",
    "\n",
    "* Combinazione dei descrittori:\n",
    "    * early fusion\n",
    "    * late fusion\n",
    "* Combinazione dei classificatori:\n",
    "    * uno contro tutti\n",
    "    * Round Robin (torneo) \n",
    "    * Codici di correzione d'errore\n",
    "* Classificatori in cascata"
   ]
  },
  {
   "cell_type": "markdown",
   "metadata": {},
   "source": [
    "# Riduzione della dimensionalita' (6 ore)\n",
    "\n",
    "* Curse of dimensionality\n",
    "* Analisi delle componenti principali\n",
    "* Fisher's Linear Discriminants\n",
    "* Riscalamento multidimensionale\n",
    "* Manyfold Learning: Isomap\n",
    "* Manyfold Learning: tSNE, UMAP (cenni)"
   ]
  },
  {
   "cell_type": "markdown",
   "metadata": {},
   "source": [
    "# Reti neurali: \n",
    "\n",
    "### I fondamentali (2 ore)\n",
    "\n",
    "* Il percettrone semplice e multistrato\n",
    "* retropropagazione dell'errore\n",
    "\n",
    "### Deep networks (2 ore)\n",
    "\n",
    "* La scomparsa del gradiente\n",
    "* inizializzazione dei pesi\n",
    "* funzione di attivazione\n",
    "* funzione obiettivo\n",
    "* scelte per l'ottimizzazione \n",
    "\n",
    "### Evitare l'overfitting (2 ore)\n",
    "\n",
    "* Early stopping \n",
    "* Dropout\n",
    "* Congelamento degli strati\n",
    "* Regolarizzazione\n",
    "\n",
    "### Reti convoluzionali profonde (4 ore)\n",
    "\n",
    "* Definizione\n",
    "* Architetture (AlexNet, GoogLeNet, ResNet)\n",
    "* Applicazioni\n",
    "\n",
    "### Reti neurali ricorrenti (2 ore)\n",
    "\n",
    "* Definizione\n",
    "* Architetture (GRU, LSTM)\n",
    "* Applicazioni\n",
    "\n",
    "### Autoencoders (2 ore)\n",
    "\n",
    "* Classici\n",
    "* Variazionali\n",
    "* Applicazioni\n",
    "\n",
    "\n",
    "### Reti generative avversarie (GAN) (2 ore)\n",
    "\n",
    "* Principi \n",
    "* Applicazioni\n",
    "\n"
   ]
  },
  {
   "cell_type": "code",
   "execution_count": null,
   "metadata": {},
   "outputs": [],
   "source": []
  }
 ],
 "metadata": {
  "kernelspec": {
   "display_name": "Python 3",
   "language": "python",
   "name": "python3"
  },
  "language_info": {
   "codemirror_mode": {
    "name": "ipython",
    "version": 3
   },
   "file_extension": ".py",
   "mimetype": "text/x-python",
   "name": "python",
   "nbconvert_exporter": "python",
   "pygments_lexer": "ipython3",
   "version": "3.8.10"
  }
 },
 "nbformat": 4,
 "nbformat_minor": 4
}
